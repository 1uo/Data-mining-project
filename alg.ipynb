{
 "cells": [
  {
   "cell_type": "code",
   "execution_count": 5,
   "metadata": {
    "collapsed": true
   },
   "outputs": [
    {
     "name": "stdout",
     "output_type": "stream",
     "text": [
      "(891, 12)\n"
     ]
    }
   ],
   "source": [
    "import pandas as pd\n",
    "import numpy as np\n",
    "\n",
    "a = pd.read_csv(\"/Users/sichunluo/PycharmProjects/dm_gp/train.csv\")\n",
    "print(a.shape)"
   ]
  },
  {
   "cell_type": "code",
   "execution_count": 6,
   "metadata": {},
   "outputs": [
    {
     "name": "stdout",
     "output_type": "stream",
     "text": [
      "   PassengerId  Survived  Pclass  \\\n0            1         0       3   \n1            2         1       1   \n2            3         1       3   \n3            4         1       1   \n4            5         0       3   \n\n                                                Name     Sex   Age  SibSp  \\\n0                            Braund, Mr. Owen Harris    male  22.0      1   \n1  Cumings, Mrs. John Bradley (Florence Briggs Th...  female  38.0      1   \n2                             Heikkinen, Miss. Laina  female  26.0      0   \n3       Futrelle, Mrs. Jacques Heath (Lily May Peel)  female  35.0      1   \n4                           Allen, Mr. William Henry    male  35.0      0   \n\n   Parch            Ticket     Fare Cabin Embarked  \n0      0         A/5 21171   7.2500   NaN        S  \n1      0          PC 17599  71.2833   C85        C  \n2      0  STON/O2. 3101282   7.9250   NaN        S  \n3      0            113803  53.1000  C123        S  \n4      0            373450   8.0500   NaN        S  \n"
     ]
    }
   ],
   "source": [
    "print(a.head())"
   ]
  },
  {
   "cell_type": "code",
   "execution_count": 9,
   "metadata": {
    "collapsed": false
   },
   "outputs": [
    {
     "name": "stdout",
     "output_type": "stream",
     "text": [
      "       PassengerId    Survived      Pclass         Age       SibSp  \\\ncount   891.000000  891.000000  891.000000  714.000000  891.000000   \nmean    446.000000    0.383838    2.308642   29.699118    0.523008   \nstd     257.353842    0.486592    0.836071   14.526497    1.102743   \nmin       1.000000    0.000000    1.000000    0.420000    0.000000   \n25%     223.500000    0.000000    2.000000   20.125000    0.000000   \n50%     446.000000    0.000000    3.000000   28.000000    0.000000   \n75%     668.500000    1.000000    3.000000   38.000000    1.000000   \nmax     891.000000    1.000000    3.000000   80.000000    8.000000   \n\n            Parch        Fare  \ncount  891.000000  891.000000  \nmean     0.381594   32.204208  \nstd      0.806057   49.693429  \nmin      0.000000    0.000000  \n25%      0.000000    7.910400  \n50%      0.000000   14.454200  \n75%      0.000000   31.000000  \nmax      6.000000  512.329200  \n"
     ]
    }
   ],
   "source": [
    "print(a.describe())"
   ]
  },
  {
   "cell_type": "code",
   "execution_count": 17,
   "metadata": {},
   "outputs": [
    {
     "name": "stdout",
     "output_type": "stream",
     "text": [
      "     Parch  PassengerId  Pclass   Age  SibSp\n0        0            1       3  22.0      1\n1        0            2       1  38.0      1\n2        0            3       3  26.0      0\n3        0            4       1  35.0      1\n4        0            5       3  35.0      0\n5        0            6       3   NaN      0\n6        0            7       1  54.0      0\n7        1            8       3   2.0      3\n8        2            9       3  27.0      0\n9        0           10       2  14.0      1\n10       1           11       3   4.0      1\n11       0           12       1  58.0      0\n12       0           13       3  20.0      0\n13       5           14       3  39.0      1\n14       0           15       3  14.0      0\n15       0           16       2  55.0      0\n16       1           17       3   2.0      4\n17       0           18       2   NaN      0\n18       0           19       3  31.0      1\n19       0           20       3   NaN      0\n20       0           21       2  35.0      0\n21       0           22       2  34.0      0\n22       0           23       3  15.0      0\n23       0           24       1  28.0      0\n24       1           25       3   8.0      3\n25       5           26       3  38.0      1\n26       0           27       3   NaN      0\n27       2           28       1  19.0      3\n28       0           29       3   NaN      0\n29       0           30       3   NaN      0\n..     ...          ...     ...   ...    ...\n861      0          862       2  21.0      1\n862      0          863       1  48.0      0\n863      2          864       3   NaN      8\n864      0          865       2  24.0      0\n865      0          866       2  42.0      0\n866      0          867       2  27.0      1\n867      0          868       1  31.0      0\n868      0          869       3   NaN      0\n869      1          870       3   4.0      1\n870      0          871       3  26.0      0\n871      1          872       1  47.0      1\n872      0          873       1  33.0      0\n873      0          874       3  47.0      0\n874      0          875       2  28.0      1\n875      0          876       3  15.0      0\n876      0          877       3  20.0      0\n877      0          878       3  19.0      0\n878      0          879       3   NaN      0\n879      1          880       1  56.0      0\n880      1          881       2  25.0      0\n881      0          882       3  33.0      0\n882      0          883       3  22.0      0\n883      0          884       2  28.0      0\n884      0          885       3  25.0      0\n885      5          886       3  39.0      0\n886      0          887       2  27.0      0\n887      0          888       1  19.0      0\n888      2          889       3   NaN      1\n889      0          890       1  26.0      0\n890      0          891       3  32.0      0\n\n[891 rows x 5 columns]\n"
     ]
    }
   ],
   "source": [
    "print(a[['Parch','PassengerId','Pclass','Age' ,'SibSp']])"
   ]
  },
  {
   "cell_type": "code",
   "execution_count": 18,
   "metadata": {},
   "outputs": [],
   "source": [
    "x = a[['Parch','PassengerId','Pclass','Age' ,'SibSp']]"
   ]
  },
  {
   "cell_type": "code",
   "execution_count": 26,
   "metadata": {},
   "outputs": [
    {
     "name": "stdout",
     "output_type": "stream",
     "text": [
      "     Parch  PassengerId  Pclass   Age  SibSp\n0        0            1       3  22.0      1\n1        0            2       1  38.0      1\n2        0            3       3  26.0      0\n3        0            4       1  35.0      1\n4        0            5       3  35.0      0\n5        0            6       3   0.0      0\n6        0            7       1  54.0      0\n7        1            8       3   2.0      3\n8        2            9       3  27.0      0\n9        0           10       2  14.0      1\n10       1           11       3   4.0      1\n11       0           12       1  58.0      0\n12       0           13       3  20.0      0\n13       5           14       3  39.0      1\n14       0           15       3  14.0      0\n15       0           16       2  55.0      0\n16       1           17       3   2.0      4\n17       0           18       2   0.0      0\n18       0           19       3  31.0      1\n19       0           20       3   0.0      0\n20       0           21       2  35.0      0\n21       0           22       2  34.0      0\n22       0           23       3  15.0      0\n23       0           24       1  28.0      0\n24       1           25       3   8.0      3\n25       5           26       3  38.0      1\n26       0           27       3   0.0      0\n27       2           28       1  19.0      3\n28       0           29       3   0.0      0\n29       0           30       3   0.0      0\n..     ...          ...     ...   ...    ...\n861      0          862       2  21.0      1\n862      0          863       1  48.0      0\n863      2          864       3   0.0      8\n864      0          865       2  24.0      0\n865      0          866       2  42.0      0\n866      0          867       2  27.0      1\n867      0          868       1  31.0      0\n868      0          869       3   0.0      0\n869      1          870       3   4.0      1\n870      0          871       3  26.0      0\n871      1          872       1  47.0      1\n872      0          873       1  33.0      0\n873      0          874       3  47.0      0\n874      0          875       2  28.0      1\n875      0          876       3  15.0      0\n876      0          877       3  20.0      0\n877      0          878       3  19.0      0\n878      0          879       3   0.0      0\n879      1          880       1  56.0      0\n880      1          881       2  25.0      0\n881      0          882       3  33.0      0\n882      0          883       3  22.0      0\n883      0          884       2  28.0      0\n884      0          885       3  25.0      0\n885      5          886       3  39.0      0\n886      0          887       2  27.0      0\n887      0          888       1  19.0      0\n888      2          889       3   0.0      1\n889      0          890       1  26.0      0\n890      0          891       3  32.0      0\n\n[891 rows x 5 columns]\n"
     ]
    },
    {
     "name": "stderr",
     "output_type": "stream",
     "text": [
      "/Users/sichunluo/Library/Python/2.7/lib/python/site-packages/pandas/core/frame.py:4034: SettingWithCopyWarning: \nA value is trying to be set on a copy of a slice from a DataFrame\n\nSee the caveats in the documentation: http://pandas.pydata.org/pandas-docs/stable/indexing.html#indexing-view-versus-copy\n  downcast=downcast, **kwargs)\n"
     ]
    }
   ],
   "source": [
    "x.fillna(0,inplace=True)\n",
    "print(x)\n",
    "y = a['Survived']"
   ]
  },
  {
   "cell_type": "markdown",
   "metadata": {},
   "source": [
    "\n"
   ]
  },
  {
   "cell_type": "heading",
   "metadata": {},
   "level": 6,
   "source": [
    "In the next part, we will try to implement several machine learning models.\n",
    "\n",
    "\n"
   ]
  },
  {
   "cell_type": "code",
   "execution_count": 29,
   "metadata": {},
   "outputs": [
    {
     "name": "stdout",
     "output_type": "stream",
     "text": [
      "     Parch  PassengerId  Pclass   Age  SibSp\n683      2          684       3  14.0      5\n844      0          845       3  17.0      0\n610      5          611       3  39.0      1\n769      0          770       3  32.0      0\n158      0          159       3   0.0      0\n"
     ]
    }
   ],
   "source": [
    "from sklearn.model_selection import train_test_split\n",
    "X_train, X_test, y_train, y_test = train_test_split(x,y,test_size=0.2)\n",
    "print(X_train.head())"
   ]
  },
  {
   "cell_type": "code",
   "execution_count": 56,
   "metadata": {},
   "outputs": [
    {
     "data": {
      "text/plain": [
       "0.5810055865921788"
      ]
     },
     "execution_count": 56,
     "metadata": {},
     "output_type": "execute_result"
    }
   ],
   "source": [
    "from sklearn.naive_bayes import GaussianNB\n",
    "model= GaussianNB()\n",
    "model.fit(X_train,y_train)\n",
    "model.score(X_test,y_test)"
   ]
  },
  {
   "cell_type": "code",
   "execution_count": 55,
   "metadata": {},
   "outputs": [
    {
     "data": {
      "text/plain": [
       "0.6033519553072626"
      ]
     },
     "execution_count": 55,
     "metadata": {},
     "output_type": "execute_result"
    }
   ],
   "source": [
    "from sklearn.ensemble import RandomForestClassifier\n",
    "model = RandomForestClassifier()\n",
    "model.fit(X_train,y_train)\n",
    "model.score(X_test,y_test)"
   ]
  },
  {
   "cell_type": "code",
   "execution_count": 59,
   "metadata": {},
   "outputs": [
    {
     "data": {
      "text/plain": [
       "0.5363128491620112"
      ]
     },
     "execution_count": 59,
     "metadata": {},
     "output_type": "execute_result"
    }
   ],
   "source": [
    "from sklearn.svm import LinearSVC\n",
    "model = LinearSVC()\n",
    "model.fit(X_train,y_train)\n",
    "model.score(X_test,y_test)"
   ]
  },
  {
   "cell_type": "code",
   "execution_count": 61,
   "metadata": {},
   "outputs": [
    {
     "data": {
      "text/plain": [
       "0.5027932960893855"
      ]
     },
     "execution_count": 61,
     "metadata": {},
     "output_type": "execute_result"
    }
   ],
   "source": [
    "from sklearn.neighbors import KNeighborsClassifier\n",
    "model = KNeighborsClassifier()\n",
    "model.fit(X_train,y_train)\n",
    "model.score(X_test,y_test)"
   ]
  },
  {
   "cell_type": "code",
   "execution_count": 77,
   "metadata": {},
   "outputs": [
    {
     "data": {
      "text/plain": [
       "0.6312849162011173"
      ]
     },
     "execution_count": 77,
     "metadata": {},
     "output_type": "execute_result"
    }
   ],
   "source": [
    "import warnings\n",
    "warnings.filterwarnings(\"ignore\")\n",
    "\n",
    "from sklearn.linear_model import LogisticRegression\n",
    "model = LogisticRegression()\n",
    "model.fit(X_train,y_train)\n",
    "model.score(X_test,y_test)"
   ]
  },
  {
   "cell_type": "code",
   "execution_count": 84,
   "metadata": {},
   "outputs": [
    {
     "data": {
      "text/plain": [
       "0.6201117318435754"
      ]
     },
     "execution_count": 84,
     "metadata": {},
     "output_type": "execute_result"
    }
   ],
   "source": [
    "from sklearn.neural_network import MLPClassifier\n",
    "model = MLPClassifier()\n",
    "model.fit(X_train,y_train)\n",
    "model.score(X_test,y_test)"
   ]
  },
  {
   "cell_type": "code",
   "execution_count": 85,
   "metadata": {},
   "outputs": [
    {
     "data": {
      "text/plain": [
       "0.6256983240223464"
      ]
     },
     "execution_count": 85,
     "metadata": {},
     "output_type": "execute_result"
    }
   ],
   "source": [
    "from sklearn.ensemble import VotingClassifier\n",
    "model= VotingClassifier(estimators=[('bs',GaussianNB()),\n",
    "                                     ('rf',RandomForestClassifier()),\n",
    "                                     ('ls',LinearSVC()),\n",
    "                                     ('ml',MLPClassifier()),\n",
    "                                     ('lr',LogisticRegression())],voting='hard')\n",
    "model.fit(X_train,y_train)\n",
    "model.score(X_test,y_test)"
   ]
  },
  {
   "cell_type": "code",
   "execution_count": 81,
   "metadata": {},
   "outputs": [
    {
     "data": {
      "text/plain": [
       "array([0, 0, 1, 0, 1])"
      ]
     },
     "execution_count": 81,
     "metadata": {},
     "output_type": "execute_result"
    }
   ],
   "source": [
    "model.predict(X_test[:5])"
   ]
  },
  {
   "cell_type": "code",
   "execution_count": 82,
   "metadata": {},
   "outputs": [
    {
     "name": "stdout",
     "output_type": "stream",
     "text": [
      "428    0\n461    0\n638    0\n682    0\n377    0\nName: Survived, dtype: int64\n"
     ]
    }
   ],
   "source": [
    "print(y_test[:5])"
   ]
  },
  {
   "cell_type": "heading",
   "metadata": {},
   "level": 6,
   "source": [
    "Since the dataset size is small and we know deep learning need a large dataset to train. We would not implement deep learning method in our program."
   ]
  },
  {
   "cell_type": "code",
   "execution_count": null,
   "metadata": {},
   "outputs": [],
   "source": [
    ""
   ]
  },
  {
   "cell_type": "code",
   "execution_count": null,
   "metadata": {},
   "outputs": [],
   "source": []
  }
 ],
 "metadata": {
  "kernelspec": {
   "display_name": "Python 2",
   "language": "python",
   "name": "python2"
  },
  "language_info": {
   "codemirror_mode": {
    "name": "ipython",
    "version": 2
   },
   "file_extension": ".py",
   "mimetype": "text/x-python",
   "name": "python",
   "nbconvert_exporter": "python",
   "pygments_lexer": "ipython2",
   "version": "2.7.6"
  }
 },
 "nbformat": 4,
 "nbformat_minor": 0
}
